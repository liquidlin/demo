{
    "cells": [
        {
            "cell_type": "markdown",
            "metadata": {},
            "source": "# Description\n\nThis notebook blah blah"
        },
        {
            "cell_type": "code",
            "execution_count": 2,
            "metadata": {},
            "outputs": [
                {
                    "data": {
                        "text/html": "<div>\n<style scoped>\n    .dataframe tbody tr th:only-of-type {\n        vertical-align: middle;\n    }\n\n    .dataframe tbody tr th {\n        vertical-align: top;\n    }\n\n    .dataframe thead th {\n        text-align: right;\n    }\n</style>\n<table border=\"1\" class=\"dataframe\">\n  <thead>\n    <tr style=\"text-align: right;\">\n      <th></th>\n      <th>Status</th>\n      <th>DeathCause</th>\n      <th>AgeCHDdiag</th>\n      <th>Sex</th>\n      <th>AgeAtStart</th>\n      <th>Height</th>\n      <th>Weight</th>\n      <th>Diastolic</th>\n      <th>Systolic</th>\n      <th>MRW</th>\n      <th>Smoking</th>\n      <th>AgeAtDeath</th>\n      <th>Cholesterol</th>\n      <th>Chol_Status</th>\n      <th>BP_Status</th>\n      <th>Weight_Status</th>\n      <th>Smoking_Status</th>\n    </tr>\n  </thead>\n  <tbody>\n    <tr>\n      <th>0</th>\n      <td>Dead</td>\n      <td>Other</td>\n      <td>NaN</td>\n      <td>Female</td>\n      <td>29</td>\n      <td>62.50</td>\n      <td>140.0</td>\n      <td>78</td>\n      <td>124</td>\n      <td>121.0</td>\n      <td>0.0</td>\n      <td>55.0</td>\n      <td>NaN</td>\n      <td>NaN</td>\n      <td>Normal</td>\n      <td>Overweight</td>\n      <td>Non-smoker</td>\n    </tr>\n    <tr>\n      <th>1</th>\n      <td>Dead</td>\n      <td>Cancer</td>\n      <td>NaN</td>\n      <td>Female</td>\n      <td>41</td>\n      <td>59.75</td>\n      <td>194.0</td>\n      <td>92</td>\n      <td>144</td>\n      <td>183.0</td>\n      <td>0.0</td>\n      <td>57.0</td>\n      <td>181.0</td>\n      <td>Desirable</td>\n      <td>High</td>\n      <td>Overweight</td>\n      <td>Non-smoker</td>\n    </tr>\n    <tr>\n      <th>2</th>\n      <td>Alive</td>\n      <td>NaN</td>\n      <td>NaN</td>\n      <td>Female</td>\n      <td>57</td>\n      <td>62.25</td>\n      <td>132.0</td>\n      <td>90</td>\n      <td>170</td>\n      <td>114.0</td>\n      <td>10.0</td>\n      <td>NaN</td>\n      <td>250.0</td>\n      <td>High</td>\n      <td>High</td>\n      <td>Overweight</td>\n      <td>Moderate (6-15</td>\n    </tr>\n    <tr>\n      <th>3</th>\n      <td>Alive</td>\n      <td>NaN</td>\n      <td>NaN</td>\n      <td>Female</td>\n      <td>39</td>\n      <td>65.75</td>\n      <td>158.0</td>\n      <td>80</td>\n      <td>128</td>\n      <td>123.0</td>\n      <td>0.0</td>\n      <td>NaN</td>\n      <td>242.0</td>\n      <td>High</td>\n      <td>Normal</td>\n      <td>Overweight</td>\n      <td>Non-smoker</td>\n    </tr>\n    <tr>\n      <th>4</th>\n      <td>Alive</td>\n      <td>NaN</td>\n      <td>NaN</td>\n      <td>Male</td>\n      <td>42</td>\n      <td>66.00</td>\n      <td>156.0</td>\n      <td>76</td>\n      <td>110</td>\n      <td>116.0</td>\n      <td>20.0</td>\n      <td>NaN</td>\n      <td>281.0</td>\n      <td>High</td>\n      <td>Optima</td>\n      <td>Overweight</td>\n      <td>Heavy (16-25)</td>\n    </tr>\n  </tbody>\n</table>\n</div>",
                        "text/plain": "  Status DeathCause  AgeCHDdiag     Sex  AgeAtStart  Height  Weight  \\\n0   Dead      Other         NaN  Female          29   62.50   140.0   \n1   Dead     Cancer         NaN  Female          41   59.75   194.0   \n2  Alive        NaN         NaN  Female          57   62.25   132.0   \n3  Alive        NaN         NaN  Female          39   65.75   158.0   \n4  Alive        NaN         NaN    Male          42   66.00   156.0   \n\n   Diastolic  Systolic    MRW  Smoking  AgeAtDeath  Cholesterol Chol_Status  \\\n0         78       124  121.0      0.0        55.0          NaN         NaN   \n1         92       144  183.0      0.0        57.0        181.0   Desirable   \n2         90       170  114.0     10.0         NaN        250.0        High   \n3         80       128  123.0      0.0         NaN        242.0        High   \n4         76       110  116.0     20.0         NaN        281.0        High   \n\n  BP_Status Weight_Status  Smoking_Status  \n0    Normal    Overweight      Non-smoker  \n1      High    Overweight      Non-smoker  \n2      High    Overweight  Moderate (6-15  \n3    Normal    Overweight      Non-smoker  \n4    Optima    Overweight   Heavy (16-25)  "
                    },
                    "execution_count": 2,
                    "metadata": {},
                    "output_type": "execute_result"
                }
            ],
            "source": "# The code was removed by Watson Studio for sharing."
        }
    ],
    "metadata": {
        "kernelspec": {
            "display_name": "Python 3.6",
            "language": "python",
            "name": "python3"
        },
        "language_info": {
            "codemirror_mode": {
                "name": "ipython",
                "version": 3
            },
            "file_extension": ".py",
            "mimetype": "text/x-python",
            "name": "python",
            "nbconvert_exporter": "python",
            "pygments_lexer": "ipython3",
            "version": "3.6.9"
        }
    },
    "nbformat": 4,
    "nbformat_minor": 1
}